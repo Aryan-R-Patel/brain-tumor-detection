{
 "cells": [
  {
   "cell_type": "markdown",
   "id": "9e02b4a8-9bdd-4b57-a3da-bc5d16432e9a",
   "metadata": {},
   "source": [
    "iImporting libraries and required models"
   ]
  },
  {
   "cell_type": "code",
   "execution_count": 1,
   "id": "537374d5-0ee5-4552-8370-46bbd57f3e64",
   "metadata": {},
   "outputs": [],
   "source": [
    "import numpy as np\n",
    "import os\n",
    "from PIL import Image\n",
    "from sklearn.tree import DecisionTreeClassifier\n",
    "from sklearn.linear_model import LogisticRegression\n",
    "from sklearn.neighbors import KNeighborsClassifier\n",
    "from sklearn.model_selection import train_test_split\n",
    "from sklearn.metrics import accuracy_score, precision_score, classification_report"
   ]
  },
  {
   "cell_type": "markdown",
   "id": "7601469d-513c-47d5-a4f3-a09b2c2e2763",
   "metadata": {},
   "source": [
    "storing all images in an array"
   ]
  },
  {
   "cell_type": "code",
   "execution_count": 2,
   "id": "b19d506d-fdf8-4f85-9bd7-a3c71c78f359",
   "metadata": {},
   "outputs": [],
   "source": [
    "data = []\n",
    "\n",
    "def save_to_data(directory, status):\n",
    "    '''\n",
    "    status: 1 for positive, 0 for negative\n",
    "    '''\n",
    "    for image in os.listdir(directory):\n",
    "        full_path = os.path.join(directory, image)\n",
    "        original = Image.open(full_path).convert(\"L\")  # \"L\" stands for grayscale\n",
    "        resized = original.resize((250, 250))\n",
    "        current_data = np.asarray(resized)\n",
    "        data.append([current_data, status])\n",
    "\n",
    "save_to_data(\"./Brain_Tumor_Dataset/Positive\", 1)\n",
    "save_to_data(\"./Brain_Tumor_Dataset/Negative\", 0)"
   ]
  },
  {
   "cell_type": "markdown",
   "id": "37438b19-1005-4a05-b0c1-310fc72f6835",
   "metadata": {},
   "source": [
    "shuffling, and then splitting the training and testing data"
   ]
  },
  {
   "cell_type": "code",
   "execution_count": 3,
   "id": "4ee1826a-a153-4914-a9e3-ce4e2a58667b",
   "metadata": {},
   "outputs": [],
   "source": [
    "X = []\n",
    "y = []\n",
    "\n",
    "np.random.shuffle(data)\n",
    "\n",
    "for item in data:\n",
    "    X.append(item[0].flatten())\n",
    "    y.append(item[1])\n",
    "\n",
    "X = np.array(X)\n",
    "y = np.array(y)\n",
    "\n",
    "X_train, X_test, y_train, y_test = train_test_split(X, y, train_size = 0.75, test_size = 0.25, random_state=1)"
   ]
  },
  {
   "cell_type": "markdown",
   "id": "a4912eba-dc72-486f-96df-61fedab31645",
   "metadata": {},
   "source": [
    "testing accuracy for different models"
   ]
  },
  {
   "cell_type": "code",
   "execution_count": 4,
   "id": "c1c8a70d-faa1-4809-bcb6-a6a419ea736d",
   "metadata": {},
   "outputs": [
    {
     "name": "stdout",
     "output_type": "stream",
     "text": [
      "DecisionTreeClassifier:  0.9567198177676538\n",
      "LogisticRegression:  0.9544419134396356\n",
      "KNeighborsClassifier:  0.9362186788154897\n"
     ]
    }
   ],
   "source": [
    "tree = DecisionTreeClassifier()\n",
    "tree.fit(X_train, y_train)\n",
    "tree_predictions = tree.predict(X_test)\n",
    "print(\"DecisionTreeClassifier: \", accuracy_score(y_test, tree_predictions))\n",
    "\n",
    "regression = LogisticRegression()\n",
    "regression.fit(X_train, y_train)\n",
    "regression_predictions = regression.predict(X_test)\n",
    "print(\"LogisticRegression: \", accuracy_score(y_test, regression_predictions))\n",
    "\n",
    "knn = KNeighborsClassifier()\n",
    "knn.fit(X_train, y_train)\n",
    "knn_predictions = knn.predict(X_test)\n",
    "print(\"KNeighborsClassifier: \", accuracy_score(y_test, knn_predictions))"
   ]
  }
 ],
 "metadata": {
  "kernelspec": {
   "display_name": "Python 3 (ipykernel)",
   "language": "python",
   "name": "python3"
  },
  "language_info": {
   "codemirror_mode": {
    "name": "ipython",
    "version": 3
   },
   "file_extension": ".py",
   "mimetype": "text/x-python",
   "name": "python",
   "nbconvert_exporter": "python",
   "pygments_lexer": "ipython3",
   "version": "3.11.9"
  }
 },
 "nbformat": 4,
 "nbformat_minor": 5
}
